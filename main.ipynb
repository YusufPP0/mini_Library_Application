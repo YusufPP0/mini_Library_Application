{
 "cells": [
  {
   "cell_type": "code",
   "execution_count": null,
   "id": "263080c7-4926-449c-8a4b-bdc6533a49aa",
   "metadata": {},
   "outputs": [
    {
     "name": "stdout",
     "output_type": "stream",
     "text": [
      "\n",
      "1 - List of Books\n",
      "2 - Add Book\n",
      "3 - Remove Book\n",
      "4 - Search Book\n",
      "5 - Exit\n",
      "\n"
     ]
    }
   ],
   "source": [
    "books = [\n",
    "    {\"ID\": 1, \"Title of the Book\": \"Kürk Mantolu Madonna\", \"Author\": \"Sabahattin Ali\"},\n",
    "    {\"ID\": 2, \"Title of the Book\": \"Martin Eden\", \"Author\": \"Jack London\"}\n",
    "]\n",
    "\n",
    "keep_running = True\n",
    "\n",
    "def main():\n",
    "    global keep_running\n",
    "    print(\"\"\"\n",
    "1 - List of Books\n",
    "2 - Add Book\n",
    "3 - Remove Book\n",
    "4 - Search Book\n",
    "5 - Exit\n",
    "\"\"\")\n",
    "    action = input(\"Please select the action you want to perform: \")\n",
    "    \n",
    "    if action == \"1\":\n",
    "        list_books()\n",
    "    elif action == \"2\":\n",
    "        add_book()\n",
    "    elif action == \"3\":\n",
    "        remove_book()\n",
    "    elif action == \"4\":\n",
    "        search_book()\n",
    "    elif action == \"5\":\n",
    "        print(\"Exiting the program...\")\n",
    "        keep_running = False\n",
    "\n",
    "def list_books():\n",
    "    print(\"*\" * 40)\n",
    "    for book in books:\n",
    "        print(\"-\" * 40)\n",
    "        for key, value in book.items():\n",
    "            print(f\"{key}: {value}\")\n",
    "    print(\"*\" * 40)\n",
    "\n",
    "def add_book():\n",
    "    book_id = int(input(\"Enter the ID of the book: \"))\n",
    "    for book in books:\n",
    "        if book[\"ID\"] == book_id:\n",
    "            while any(b[\"ID\"] == book_id for b in books):\n",
    "                print(\"A book with this ID already exists!\")\n",
    "                book_id = int(input(\"Please choose a different ID: \"))\n",
    "            break\n",
    "    \n",
    "    title = input(\"Enter the title of the book: \")\n",
    "    author = input(\"Enter the author of the book: \")\n",
    "    new_book = {\"ID\": book_id, \"Title of the Book\": title, \"Author\": author}\n",
    "    books.append(new_book)\n",
    "    print(\"Book added successfully.\")\n",
    "\n",
    "def remove_book():\n",
    "    book_id = int(input(\"Enter the ID of the book you want to remove: \"))\n",
    "    for book in books:\n",
    "        if book[\"ID\"] == book_id:\n",
    "            books.remove(book)\n",
    "            print(\"Book has been removed.\")\n",
    "            break\n",
    "    else:\n",
    "        print(\"Book not found.\")\n",
    "\n",
    "def search_book():\n",
    "    book_id = int(input(\"Enter the ID of the book you want to find: \"))\n",
    "    for book in books:\n",
    "        if book[\"ID\"] == book_id:\n",
    "            for key, value in book.items():\n",
    "                print(f\"{key}: {value}\")\n",
    "            break\n",
    "    else:\n",
    "        print(\"Book not found.\")\n",
    "\n",
    "while keep_running:\n",
    "    main()\n"
   ]
  },
  {
   "cell_type": "markdown",
   "id": "46591b94-b6f7-40bd-a98b-827a389e33d1",
   "metadata": {},
   "source": []
  },
  {
   "cell_type": "code",
   "execution_count": null,
   "id": "8cee92c0-37a4-4838-86fc-bffbde070a25",
   "metadata": {},
   "outputs": [],
   "source": []
  },
  {
   "cell_type": "code",
   "execution_count": null,
   "id": "eb19b155-5d7c-4a80-99d6-81817f1a2582",
   "metadata": {},
   "outputs": [],
   "source": []
  }
 ],
 "metadata": {
  "kernelspec": {
   "display_name": "Python [conda env:base] *",
   "language": "python",
   "name": "conda-base-py"
  },
  "language_info": {
   "codemirror_mode": {
    "name": "ipython",
    "version": 3
   },
   "file_extension": ".py",
   "mimetype": "text/x-python",
   "name": "python",
   "nbconvert_exporter": "python",
   "pygments_lexer": "ipython3",
   "version": "3.12.7"
  }
 },
 "nbformat": 4,
 "nbformat_minor": 5
}
